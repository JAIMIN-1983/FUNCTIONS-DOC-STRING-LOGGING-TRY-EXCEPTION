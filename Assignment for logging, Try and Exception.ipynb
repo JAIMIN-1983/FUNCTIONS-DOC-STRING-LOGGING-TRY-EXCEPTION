{
 "cells": [
  {
   "cell_type": "code",
   "execution_count": null,
   "id": "fd93f815",
   "metadata": {},
   "outputs": [],
   "source": [
    "# Make a function for all program and also use docstring. Use try-exception handling and logging in these programmes"
   ]
  },
  {
   "cell_type": "code",
   "execution_count": 1,
   "id": "e5300800",
   "metadata": {},
   "outputs": [],
   "source": [
    "# 1.Find squre root in python.\n",
    "import logging\n",
    "logging.basicConfig(filename = \"SquareRoot.log\", level = logging.DEBUG, format = '%(asctime)s %(levelname)s %(message)s')"
   ]
  },
  {
   "cell_type": "code",
   "execution_count": 2,
   "id": "7121ac01",
   "metadata": {},
   "outputs": [
    {
     "name": "stdout",
     "output_type": "stream",
     "text": [
      "4\n",
      "0.5\n",
      "2.0\n"
     ]
    }
   ],
   "source": [
    "import logging\n",
    "def sqrt(a,b):\n",
    "    \"\"\"this is a function for finding square root of a given number\"\"\"\n",
    "    return(a,b)\n",
    "    logging.info(\"this is program for finding square root by entering %s\", a,b)\n",
    "try:\n",
    "    a = int(input())\n",
    "    b = float(input())\n",
    "    sqrt_value = a**b\n",
    "    print(sqrt_value)\n",
    "    logging.info(\"Executed successfully\")\n",
    "except Exception as e:\n",
    "    logging.error(\"Error has happened\")\n",
    "    logging.exception(\"Exception occured\" + str(e))"
   ]
  },
  {
   "cell_type": "code",
   "execution_count": 3,
   "id": "bcaba386",
   "metadata": {},
   "outputs": [],
   "source": [
    "logging.shutdown()"
   ]
  },
  {
   "cell_type": "code",
   "execution_count": 6,
   "id": "aec53adb",
   "metadata": {},
   "outputs": [
    {
     "data": {
      "text/plain": [
       "(4, 0.5)"
      ]
     },
     "execution_count": 6,
     "metadata": {},
     "output_type": "execute_result"
    }
   ],
   "source": [
    "sqrt(4,0.5)"
   ]
  },
  {
   "cell_type": "code",
   "execution_count": 9,
   "id": "e6e7f09f",
   "metadata": {},
   "outputs": [],
   "source": [
    "# 2.Decimal to binary in python\n",
    "import logging\n",
    "logging.basicConfig(filename = \"DecimalToBinary.log\", level = logging.DEBUG, format = '%(asctime)s %(levelname)s %(message)s')"
   ]
  },
  {
   "cell_type": "code",
   "execution_count": 10,
   "id": "3e0807e5",
   "metadata": {},
   "outputs": [
    {
     "name": "stdout",
     "output_type": "stream",
     "text": [
      "11000"
     ]
    }
   ],
   "source": [
    "import logging\n",
    "def DecimalToBinary(num):\n",
    "    \"\"\"This is a function to convert decimal into binary\"\"\"\n",
    "    return num\n",
    "    logging.info(\"this is program for finding square root by entering %s and %s\", a,b)\n",
    "try: \n",
    "    def DecimalToBinary(num):    \n",
    "        if num >= 1:\n",
    "            DecimalToBinary(num // 2)\n",
    "            print(num % 2, end = '')\n",
    "# Driver Code\n",
    "    if __name__ == '__main__':\n",
    "     \n",
    "    # decimal value\n",
    "        dec_val = 24\n",
    "    \n",
    "    # Calling function\n",
    "    DecimalToBinary(dec_val)\n",
    "    logging.info(\"Executed successfully\")\n",
    "except Exception as e:\n",
    "    logging.error(\"Error has happened\")\n",
    "    logging.exception(\"Exception occured\" + str(e))"
   ]
  },
  {
   "cell_type": "code",
   "execution_count": 11,
   "id": "33aa852c",
   "metadata": {},
   "outputs": [],
   "source": [
    "logging.shutdown()"
   ]
  },
  {
   "cell_type": "code",
   "execution_count": 12,
   "id": "75ca899f",
   "metadata": {},
   "outputs": [
    {
     "name": "stdout",
     "output_type": "stream",
     "text": [
      "11000"
     ]
    }
   ],
   "source": [
    "DecimalToBinary(24)"
   ]
  },
  {
   "cell_type": "code",
   "execution_count": null,
   "id": "1ec0ea39",
   "metadata": {},
   "outputs": [],
   "source": [
    "# 3.Write python code for highest number out of four\n",
    "import logging\n",
    "logging.basicConfig(filename = \"HighestNumber.log\", level = logging.DEBUG, format = '%(asctime)s %(levelname)s %(message)s')"
   ]
  },
  {
   "cell_type": "code",
   "execution_count": 2,
   "id": "567e5869",
   "metadata": {},
   "outputs": [],
   "source": [
    "import logging\n",
    "def allNum(num1,num2,num3,num4):\n",
    "    \"\"\"This is function for finding highest number out of four\"\"\"\n",
    "    return num1,num2,num3,num4\n",
    "    logging.info(\"this is program for finding highest number out of four by entering %s, %s, %s and %s\", num1,num2,num3,num4)\n",
    "try: \n",
    "    def allNum(num1,num2,num3,num4):\n",
    "        num1 = int(input(\"Enter number 1: \"))\n",
    "        num2 = int(input(\"Enter number 2: \"))\n",
    "        num3 = int(input(\"Enter number 3: \"))\n",
    "        num4 = int(input(\"Enter number 4: \"))\n",
    "\n",
    "    #Store all numbers in list. \n",
    "    allNum = [num1, num2, num3, num4]\n",
    "\n",
    "    #Get the max value of all numbers in that list\n",
    "    maxNum = max(num1, num2, num3, num4)\n",
    "\n",
    "    #To get the position of this value, use list.index() function\n",
    "    #maxIndex = allNum.index(max(allNum))\n",
    "\n",
    "#Lets say your numbers are [3,5,4,1]. .index() would give you \"1\" because the index starts from 0 to length of list -1. \n",
    "#In this case, it would be 0-3. So, if you want `Number 2` is greater instead, then you just add 1 to the maxIndex.\n",
    "\n",
    "    print(\"Greatest number is number \"+str(maxIndex+1))\n",
    "    logging.info(\"Executed successfully\")\n",
    "except Exception as e:\n",
    "    logging.error(\"Error has happened\")\n",
    "    logging.exception(\"Exception occured\" + str(e))"
   ]
  },
  {
   "cell_type": "code",
   "execution_count": 3,
   "id": "87c08efc",
   "metadata": {},
   "outputs": [],
   "source": [
    "logging.shutdown()"
   ]
  },
  {
   "cell_type": "code",
   "execution_count": 4,
   "id": "87784f96",
   "metadata": {},
   "outputs": [
    {
     "data": {
      "text/plain": [
       "5"
      ]
     },
     "execution_count": 4,
     "metadata": {},
     "output_type": "execute_result"
    }
   ],
   "source": [
    "max(3,5,4,1)"
   ]
  },
  {
   "cell_type": "code",
   "execution_count": 9,
   "id": "e1eb2e41",
   "metadata": {},
   "outputs": [],
   "source": [
    "# 4. Write a program to find area of circle\n",
    "import logging\n",
    "logging.basicConfig(filename = \"AreaOfCircle.log\", level = logging.DEBUG, format = '%(asctime)s %(levelname)s %(message)s')"
   ]
  },
  {
   "cell_type": "code",
   "execution_count": 17,
   "id": "a6ca1d08",
   "metadata": {},
   "outputs": [],
   "source": [
    "import logging\n",
    "def AreaOfCircle(r):\n",
    "    \"\"\"function to calculate the area of circle\"\"\"\n",
    "    return r\n",
    "    logging.info(\"this is program for finding Area of Circle by entering %s\", r)\n",
    "try:\n",
    "    def AreaOfCircle(r):\n",
    "        AreaOfCircle = 3.142*(r*r)\n",
    "        r = float(input())\n",
    "        print(AreaOfCircle)\n",
    "        logging.info(\"Executed successfully\")\n",
    "except Exception as e:\n",
    "    logging.error(\"Error has happened\")\n",
    "    logging.exception(\"Exception occured\" + str(e))"
   ]
  },
  {
   "cell_type": "code",
   "execution_count": 18,
   "id": "6762447e",
   "metadata": {},
   "outputs": [],
   "source": [
    "logging.shutdown()"
   ]
  },
  {
   "cell_type": "code",
   "execution_count": 19,
   "id": "71fe56da",
   "metadata": {},
   "outputs": [
    {
     "name": "stdout",
     "output_type": "stream",
     "text": [
      "5\n",
      "28.278\n"
     ]
    }
   ],
   "source": [
    "AreaOfCircle(3)"
   ]
  },
  {
   "cell_type": "code",
   "execution_count": 1,
   "id": "ac81b12d",
   "metadata": {},
   "outputs": [],
   "source": [
    "# 5.Write a program to generate a random number\n",
    "import logging\n",
    "logging.basicConfig(filename = \"RandomNumber.log\", level = logging.DEBUG, format = '%(asctime)s %(levelname)s %(message)s')"
   ]
  },
  {
   "cell_type": "code",
   "execution_count": 2,
   "id": "fead1255",
   "metadata": {},
   "outputs": [
    {
     "name": "stdout",
     "output_type": "stream",
     "text": [
      "0.5146188626522366\n"
     ]
    }
   ],
   "source": [
    "# Program to generate a random number between 0 and 9\n",
    "import logging\n",
    "def RandomNumber(n):\n",
    "    \"\"\"Function to generate a random number\"\"\"\n",
    "    return n\n",
    "    logging.info(\"this is program for finding Random Number\")\n",
    "try:\n",
    "    # importing the random module\n",
    "    import random\n",
    "    num = random.random()\n",
    "    print(num)\n",
    "    logging.info(\"Executed successfully\")\n",
    "except Exception as e:\n",
    "    logging.error(\"Error has happened\")\n",
    "    logging.exception(\"Exception occured\" + str(e))"
   ]
  },
  {
   "cell_type": "code",
   "execution_count": 3,
   "id": "99959674",
   "metadata": {},
   "outputs": [
    {
     "data": {
      "text/plain": [
       "50"
      ]
     },
     "execution_count": 3,
     "metadata": {},
     "output_type": "execute_result"
    }
   ],
   "source": [
    "RandomNumber(50)"
   ]
  },
  {
   "cell_type": "code",
   "execution_count": 4,
   "id": "94f40986",
   "metadata": {},
   "outputs": [],
   "source": [
    "logging.shutdown()"
   ]
  },
  {
   "cell_type": "code",
   "execution_count": 5,
   "id": "7a78a6c8",
   "metadata": {},
   "outputs": [
    {
     "data": {
      "text/plain": [
       "50"
      ]
     },
     "execution_count": 5,
     "metadata": {},
     "output_type": "execute_result"
    }
   ],
   "source": [
    "RandomNumber(50)"
   ]
  },
  {
   "cell_type": "code",
   "execution_count": 12,
   "id": "8700a9fa",
   "metadata": {},
   "outputs": [],
   "source": [
    "# 6.Write a python program for average of N numbers\n",
    "import logging\n",
    "logging.basicConfig(filename = \"AverageNNumbers.log\", level = logging.DEBUG, format = '%(asctime)s %(levelname)s %(message)s')"
   ]
  },
  {
   "cell_type": "code",
   "execution_count": 13,
   "id": "66b9af0c",
   "metadata": {},
   "outputs": [],
   "source": [
    "import logging\n",
    "def avg():\n",
    "    \"\"\"Function to calculate average of N number\"\"\"\n",
    "    logging.info(\"this is program for calculating average of N Number\")\n",
    "    try:\n",
    "        num = int(input(\"How many numbers: \"))\n",
    "        total_sum = 0\n",
    "        for n in range(num):\n",
    "            numbers = float(input(\"Enter Number: \"))\n",
    "            total_sum += numbers\n",
    "            avg = total_sum/num\n",
    "        print('Average of', num, 'numbers is:', avg)\n",
    "        logging.info(\"excecuted successfully\")\n",
    "    except Exception as e:\n",
    "        logging.error(\"Error has happened\")\n",
    "        logging.exception(\"Exception occured\" + str(e))"
   ]
  },
  {
   "cell_type": "code",
   "execution_count": 14,
   "id": "cbbb5a31",
   "metadata": {},
   "outputs": [
    {
     "name": "stdout",
     "output_type": "stream",
     "text": [
      "How many numbers: 3\n",
      "Enter Number: 25\n",
      "Enter Number: 5\n",
      "Enter Number: 7\n",
      "Average of 3 numbers is: 12.333333333333334\n"
     ]
    }
   ],
   "source": [
    "avg()"
   ]
  },
  {
   "cell_type": "code",
   "execution_count": 15,
   "id": "1b05f521",
   "metadata": {},
   "outputs": [],
   "source": [
    "logging.shutdown()"
   ]
  },
  {
   "cell_type": "code",
   "execution_count": 16,
   "id": "83eb3644",
   "metadata": {},
   "outputs": [
    {
     "name": "stdout",
     "output_type": "stream",
     "text": [
      "How many numbers: 3\n",
      "Enter Number: 25\n",
      "Enter Number: 5\n",
      "Enter Number: 7\n",
      "Average of 3 numbers is: 12.333333333333334\n"
     ]
    }
   ],
   "source": [
    "avg()"
   ]
  },
  {
   "cell_type": "code",
   "execution_count": 1,
   "id": "f4fdfdd6",
   "metadata": {},
   "outputs": [],
   "source": [
    "# 7.Factorial program in python\n",
    "import logging\n",
    "logging.basicConfig(filename = \"Factorial.log\", level = logging.DEBUG, format = '%(asctime)s %(levelname)s %(message)s')"
   ]
  },
  {
   "cell_type": "code",
   "execution_count": 18,
   "id": "001c2610",
   "metadata": {},
   "outputs": [],
   "source": [
    "import logging\n",
    "def factorial(n):\n",
    "    \"\"\"Function to calculate Factorial of a number\"\"\"\n",
    "    return n\n",
    "    logging.info(\"this is program for calculating factorial of a Number\")\n",
    "    try:\n",
    "        def factorial(n):\n",
    "            return 1 if (n==1 or n==0) else n*factorial(n-1)\n",
    "            num = 5\n",
    "            print(\"Factorial of\", num, \"is\",factorial(num))\n",
    "            logging.info(\"excecuted successfully\")\n",
    "    except Exception as e:\n",
    "        logging.error(\"Error has happened\")\n",
    "        logging.exception(\"Exception occured\" + str(e))"
   ]
  },
  {
   "cell_type": "code",
   "execution_count": 12,
   "id": "4386778d",
   "metadata": {},
   "outputs": [],
   "source": [
    "# factorial of given number\n",
    "import logging\n",
    "def factorial(n):\n",
    "    \"\"\"Function to calculate Factorial of a number\"\"\"\n",
    "    return n\n",
    "    logging.info(\"this is program for calculating factorial of a Number\")\n",
    "    try:\n",
    "        def factorial(n):\n",
    "            if n < 0:\n",
    "                return 0\n",
    "            elif n == 0 or n == 1:\n",
    "                return 1\n",
    "            else:\n",
    "                fact = 1\n",
    "                while(n > 1):\n",
    "                    fact *= n\n",
    "                    n -= 1\n",
    "                return fact\n",
    "# Driver Code\n",
    "            num = 5\n",
    "            print(\"Factorial of\",num,\"is\",factorial(num))\n",
    "            logging.info(\"excecuted successfully\")\n",
    "    except Exception as e:\n",
    "        logging.error(\"Error has happened\")\n",
    "        logging.exception(\"Exception occured\" + str(e))"
   ]
  },
  {
   "cell_type": "code",
   "execution_count": 13,
   "id": "3664b20f",
   "metadata": {},
   "outputs": [],
   "source": [
    "logging.shutdown()"
   ]
  },
  {
   "cell_type": "code",
   "execution_count": 15,
   "id": "cb64cd09",
   "metadata": {},
   "outputs": [
    {
     "data": {
      "text/plain": [
       "10"
      ]
     },
     "execution_count": 15,
     "metadata": {},
     "output_type": "execute_result"
    }
   ],
   "source": [
    "factorial(10)"
   ]
  },
  {
   "cell_type": "code",
   "execution_count": 1,
   "id": "7c26ea98",
   "metadata": {},
   "outputs": [],
   "source": [
    "# 8.leap year in python\n",
    "import logging\n",
    "logging.basicConfig(filename = \"LeapYear.log\", level = logging.DEBUG, format = '%(asctime)s %(levelname)s %(message)s')"
   ]
  },
  {
   "cell_type": "code",
   "execution_count": 2,
   "id": "f7aca2a0",
   "metadata": {},
   "outputs": [],
   "source": [
    "import logging\n",
    "def leap_year(year):\n",
    "    \"\"\"Function to know whether Year inputed is Leap Year\"\"\"\n",
    "    return year\n",
    "logging.info(\"this is program to know whether Year inputed is Leap Year\")\n",
    "try:\n",
    "    def leap_year(year): \n",
    "        if year %4 ==0:\n",
    "            if year %100 ==0:\n",
    "                if year % 400 ==0:\n",
    "                    return True\n",
    "                else:\n",
    "                    return False\n",
    "            else:\n",
    "                return True\n",
    "        else:\n",
    "            return False\n",
    "            year = int(input(\"Enter a year: \"))\n",
    "            if leap_year(year):\n",
    "                print(year, \"is a Leap Year\")\n",
    "            else:\n",
    "                print(year,\"is not a Leap Year\")\n",
    "                logging.info(\"excecuted successfully\")\n",
    "except Exception as e:\n",
    "    logging.error(\"Error has happened\")\n",
    "    logging.exception(\"Exception occured\" + str(e))"
   ]
  },
  {
   "cell_type": "code",
   "execution_count": 3,
   "id": "14de0024",
   "metadata": {},
   "outputs": [],
   "source": [
    "logging.shutdown()"
   ]
  },
  {
   "cell_type": "code",
   "execution_count": 4,
   "id": "9d1dd7c4",
   "metadata": {},
   "outputs": [
    {
     "data": {
      "text/plain": [
       "True"
      ]
     },
     "execution_count": 4,
     "metadata": {},
     "output_type": "execute_result"
    }
   ],
   "source": [
    "leap_year(2000)"
   ]
  },
  {
   "cell_type": "code",
   "execution_count": 1,
   "id": "a0259bff",
   "metadata": {},
   "outputs": [],
   "source": [
    "# 9.Diamond pattern in python\n",
    "import logging\n",
    "logging.basicConfig(filename = \"DiamondPattern.log\", level = logging.DEBUG, format = '%(asctime)s %(levelname)s %(message)s')"
   ]
  },
  {
   "cell_type": "code",
   "execution_count": 2,
   "id": "6900690d",
   "metadata": {},
   "outputs": [],
   "source": [
    "import logging\n",
    "def DiamondPattern(n):\n",
    "    \"\"\"Function to have diamond pattern in python\"\"\"\n",
    "    return n\n",
    "logging.info(\"this is program to have diamond pattern in python\")\n",
    "try:\n",
    "    def DiamondPattern(n):\n",
    "        n = 4\n",
    "        for i in range(n):\n",
    "            print(\" \"*(n-i-1) + \"* \"*(i+1))\n",
    "        for i in range(n):\n",
    "            print(\" \"*(i+1) + \"* \"*(n-i-1))\n",
    "            logging.info(\"excecuted successfully\")\n",
    "except Exception as e:\n",
    "    logging.error(\"Error has happened\")\n",
    "    logging.exception(\"Exception occured\" + str(e))"
   ]
  },
  {
   "cell_type": "code",
   "execution_count": 3,
   "id": "731aa03c",
   "metadata": {},
   "outputs": [],
   "source": [
    "logging.shutdown()"
   ]
  },
  {
   "cell_type": "code",
   "execution_count": 4,
   "id": "37a550d3",
   "metadata": {},
   "outputs": [
    {
     "name": "stdout",
     "output_type": "stream",
     "text": [
      "   * \n",
      "  * * \n",
      " * * * \n",
      "* * * * \n",
      " * * * \n",
      "  * * \n",
      "   * \n",
      "    \n"
     ]
    }
   ],
   "source": [
    "DiamondPattern(4)"
   ]
  },
  {
   "cell_type": "code",
   "execution_count": 5,
   "id": "9fb549d6",
   "metadata": {},
   "outputs": [],
   "source": [
    "# 10.Find out prime number between 1 - 1000\n",
    "import logging\n",
    "logging.basicConfig(filename = \"PrimeNumbers.log\", level = logging.DEBUG, format = '%(asctime)s %(levelname)s %(message)s')"
   ]
  },
  {
   "cell_type": "code",
   "execution_count": 6,
   "id": "8f8d58e9",
   "metadata": {},
   "outputs": [],
   "source": [
    "import logging\n",
    "def PrimeNumber(num):\n",
    "    \"\"\"This is Function to have Prime Numbers from 1 to 1000\"\"\"\n",
    "    return num\n",
    "logging.info(\"this is program to have Prime Numbers from 1 to 1000\")\n",
    "try:\n",
    "    def PrimeNumber(num):\n",
    "        for num in range(1,1001):\n",
    "            if num >1:\n",
    "                for i in range(2,num):\n",
    "                    if (num % i) == 0:\n",
    "                        break\n",
    "                else:\n",
    "                    print(f\"{num} is a prime number: \")\n",
    "                    logging.info(\"excecuted successfully\")\n",
    "except Exception as e:\n",
    "    logging.error(\"Error has happened\")\n",
    "    logging.exception(\"Exception occured\" + str(e))            "
   ]
  },
  {
   "cell_type": "code",
   "execution_count": 7,
   "id": "542c7cfa",
   "metadata": {},
   "outputs": [],
   "source": [
    "logging.shutdown()"
   ]
  },
  {
   "cell_type": "code",
   "execution_count": 8,
   "id": "282c64ef",
   "metadata": {},
   "outputs": [
    {
     "name": "stdout",
     "output_type": "stream",
     "text": [
      "2 is a prime number: \n",
      "3 is a prime number: \n",
      "5 is a prime number: \n",
      "7 is a prime number: \n",
      "11 is a prime number: \n",
      "13 is a prime number: \n",
      "17 is a prime number: \n",
      "19 is a prime number: \n",
      "23 is a prime number: \n",
      "29 is a prime number: \n",
      "31 is a prime number: \n",
      "37 is a prime number: \n",
      "41 is a prime number: \n",
      "43 is a prime number: \n",
      "47 is a prime number: \n",
      "53 is a prime number: \n",
      "59 is a prime number: \n",
      "61 is a prime number: \n",
      "67 is a prime number: \n",
      "71 is a prime number: \n",
      "73 is a prime number: \n",
      "79 is a prime number: \n",
      "83 is a prime number: \n",
      "89 is a prime number: \n",
      "97 is a prime number: \n",
      "101 is a prime number: \n",
      "103 is a prime number: \n",
      "107 is a prime number: \n",
      "109 is a prime number: \n",
      "113 is a prime number: \n",
      "127 is a prime number: \n",
      "131 is a prime number: \n",
      "137 is a prime number: \n",
      "139 is a prime number: \n",
      "149 is a prime number: \n",
      "151 is a prime number: \n",
      "157 is a prime number: \n",
      "163 is a prime number: \n",
      "167 is a prime number: \n",
      "173 is a prime number: \n",
      "179 is a prime number: \n",
      "181 is a prime number: \n",
      "191 is a prime number: \n",
      "193 is a prime number: \n",
      "197 is a prime number: \n",
      "199 is a prime number: \n",
      "211 is a prime number: \n",
      "223 is a prime number: \n",
      "227 is a prime number: \n",
      "229 is a prime number: \n",
      "233 is a prime number: \n",
      "239 is a prime number: \n",
      "241 is a prime number: \n",
      "251 is a prime number: \n",
      "257 is a prime number: \n",
      "263 is a prime number: \n",
      "269 is a prime number: \n",
      "271 is a prime number: \n",
      "277 is a prime number: \n",
      "281 is a prime number: \n",
      "283 is a prime number: \n",
      "293 is a prime number: \n",
      "307 is a prime number: \n",
      "311 is a prime number: \n",
      "313 is a prime number: \n",
      "317 is a prime number: \n",
      "331 is a prime number: \n",
      "337 is a prime number: \n",
      "347 is a prime number: \n",
      "349 is a prime number: \n",
      "353 is a prime number: \n",
      "359 is a prime number: \n",
      "367 is a prime number: \n",
      "373 is a prime number: \n",
      "379 is a prime number: \n",
      "383 is a prime number: \n",
      "389 is a prime number: \n",
      "397 is a prime number: \n",
      "401 is a prime number: \n",
      "409 is a prime number: \n",
      "419 is a prime number: \n",
      "421 is a prime number: \n",
      "431 is a prime number: \n",
      "433 is a prime number: \n",
      "439 is a prime number: \n",
      "443 is a prime number: \n",
      "449 is a prime number: \n",
      "457 is a prime number: \n",
      "461 is a prime number: \n",
      "463 is a prime number: \n",
      "467 is a prime number: \n",
      "479 is a prime number: \n",
      "487 is a prime number: \n",
      "491 is a prime number: \n",
      "499 is a prime number: \n",
      "503 is a prime number: \n",
      "509 is a prime number: \n",
      "521 is a prime number: \n",
      "523 is a prime number: \n",
      "541 is a prime number: \n",
      "547 is a prime number: \n",
      "557 is a prime number: \n",
      "563 is a prime number: \n",
      "569 is a prime number: \n",
      "571 is a prime number: \n",
      "577 is a prime number: \n",
      "587 is a prime number: \n",
      "593 is a prime number: \n",
      "599 is a prime number: \n",
      "601 is a prime number: \n",
      "607 is a prime number: \n",
      "613 is a prime number: \n",
      "617 is a prime number: \n",
      "619 is a prime number: \n",
      "631 is a prime number: \n",
      "641 is a prime number: \n",
      "643 is a prime number: \n",
      "647 is a prime number: \n",
      "653 is a prime number: \n",
      "659 is a prime number: \n",
      "661 is a prime number: \n",
      "673 is a prime number: \n",
      "677 is a prime number: \n",
      "683 is a prime number: \n",
      "691 is a prime number: \n",
      "701 is a prime number: \n",
      "709 is a prime number: \n",
      "719 is a prime number: \n",
      "727 is a prime number: \n",
      "733 is a prime number: \n",
      "739 is a prime number: \n",
      "743 is a prime number: \n",
      "751 is a prime number: \n",
      "757 is a prime number: \n",
      "761 is a prime number: \n",
      "769 is a prime number: \n",
      "773 is a prime number: \n",
      "787 is a prime number: \n",
      "797 is a prime number: \n",
      "809 is a prime number: \n",
      "811 is a prime number: \n",
      "821 is a prime number: \n",
      "823 is a prime number: \n",
      "827 is a prime number: \n",
      "829 is a prime number: \n",
      "839 is a prime number: \n",
      "853 is a prime number: \n",
      "857 is a prime number: \n",
      "859 is a prime number: \n",
      "863 is a prime number: \n",
      "877 is a prime number: \n",
      "881 is a prime number: \n",
      "883 is a prime number: \n",
      "887 is a prime number: \n",
      "907 is a prime number: \n",
      "911 is a prime number: \n",
      "919 is a prime number: \n",
      "929 is a prime number: \n",
      "937 is a prime number: \n",
      "941 is a prime number: \n",
      "947 is a prime number: \n",
      "953 is a prime number: \n",
      "967 is a prime number: \n",
      "971 is a prime number: \n",
      "977 is a prime number: \n",
      "983 is a prime number: \n",
      "991 is a prime number: \n",
      "997 is a prime number: \n"
     ]
    }
   ],
   "source": [
    "PrimeNumber(1000)"
   ]
  },
  {
   "cell_type": "code",
   "execution_count": 3,
   "id": "33ec058c",
   "metadata": {},
   "outputs": [
    {
     "name": "stdout",
     "output_type": "stream",
     "text": [
      "Enter a number: 153\n",
      "The given number 153 is armstrong number\n"
     ]
    }
   ],
   "source": [
    "# 11.Armstrong number in python\n",
    "import logging\n",
    "logging.basicConfig(filename = \"ArmstrongNumber.log\", level = logging.DEBUG, format = '%(asctime)s %(levelname)s %(message)s')\n",
    "import logging\n",
    "def ArmstrongNumber(n):\n",
    "    \"\"\"This is Function to have Armstrong Number\"\"\"\n",
    "logging.info(\"this is program to have Armstrong Number\")\n",
    "\n",
    "# to check whether the given number is armstrong or not\n",
    "# without using power function\n",
    "try: \n",
    "    n = int(input(\"Enter a number: \")) # or n=int(input()) -> taking input from user\n",
    "    s = n  # assigning input value to the s variable\n",
    "    b = len(str(n))\n",
    "    sum1 = 0\n",
    "    while n != 0:\n",
    "        r = n % 10\n",
    "        sum1 = sum1+(r**b)\n",
    "        n = n//10\n",
    "    if s == sum1:\n",
    "        print(\"The given number\", s, \"is armstrong number\")\n",
    "    else:\n",
    "        print(\"The given number\", s, \"is not armstrong number\")\n",
    "        logging.info(\"excecuted successfully\")\n",
    "except Exception as e:\n",
    "    logging.error(\"Error has happened\")\n",
    "    logging.exception(\"Exception occured\" + str(e))"
   ]
  },
  {
   "cell_type": "code",
   "execution_count": 4,
   "id": "231779b1",
   "metadata": {},
   "outputs": [],
   "source": [
    "ArmstrongNumber(153)"
   ]
  },
  {
   "cell_type": "code",
   "execution_count": 5,
   "id": "92bc7da3",
   "metadata": {},
   "outputs": [],
   "source": [
    "logging.shutdown()"
   ]
  },
  {
   "cell_type": "code",
   "execution_count": 6,
   "id": "3c6138de",
   "metadata": {},
   "outputs": [],
   "source": [
    "ArmstrongNumber(153)"
   ]
  },
  {
   "cell_type": "code",
   "execution_count": 1,
   "id": "898b7346",
   "metadata": {},
   "outputs": [],
   "source": [
    "# 12.Python program for palindrome word\n",
    "import logging\n",
    "logging.basicConfig(filename = \"Palindrome.log\", level = logging.DEBUG, format = '%(asctime)s %(levelname)s %(message)s')"
   ]
  },
  {
   "cell_type": "code",
   "execution_count": 2,
   "id": "5004aaa7",
   "metadata": {},
   "outputs": [
    {
     "name": "stdout",
     "output_type": "stream",
     "text": [
      "Enter the word: eye\n",
      "word is palindrome\n"
     ]
    }
   ],
   "source": [
    "import logging\n",
    "def Palindrome():\n",
    "    \"\"\"this is function for palindrome word\"\"\"\n",
    "logging.info(\"this is program for Palindrome Word\")\n",
    "try:\n",
    "    a = str(input(\"Enter the word: \"))\n",
    "    b = a[::-1]\n",
    "    if a == b:\n",
    "        print(\"word is palindrome\")\n",
    "    else:\n",
    "        print(\"word is not palindrome\")\n",
    "        logging.info(\"excecuted successfully\")\n",
    "except Exception as e:\n",
    "    logging.error(\"Error has happened\")\n",
    "    logging.exception(\"Exception occured\" + str(e))"
   ]
  },
  {
   "cell_type": "code",
   "execution_count": 3,
   "id": "6e5500b0",
   "metadata": {},
   "outputs": [],
   "source": [
    "logging.shutdown()"
   ]
  },
  {
   "cell_type": "code",
   "execution_count": 5,
   "id": "208d6c0d",
   "metadata": {},
   "outputs": [],
   "source": [
    "Palindrome()"
   ]
  },
  {
   "cell_type": "code",
   "execution_count": 12,
   "id": "b6357a2b",
   "metadata": {},
   "outputs": [],
   "source": [
    "# 13.Write a python program for encrypting a message sent to you by your friend. The logic of\n",
    "# encryption should be such that, for a the output should be z. For b, the output should be y. For c, the output should \n",
    "# be x respectively. Also, the whitespace should be replaced with a dollar sign. Keep the punctuation marks unchanged.\n",
    "# Input Sentence: I want to become a Data Scientist.\n",
    "# Encrypt the above input sentence using the program you just created.\n",
    "# Note: Convert the given input sentence into lowercase before encrypting. The final output should be lowercase"
   ]
  },
  {
   "cell_type": "code",
   "execution_count": 1,
   "id": "67c08c58",
   "metadata": {},
   "outputs": [],
   "source": [
    "import logging\n",
    "logging.basicConfig(filename = \"EncryptingMsg.log\", level = logging.DEBUG, format = '%(asctime)s %(levelname)s %(message)s')"
   ]
  },
  {
   "cell_type": "code",
   "execution_count": 2,
   "id": "0b35e86d",
   "metadata": {},
   "outputs": [],
   "source": [
    "import logging\n",
    "def EncryptingMsg(msg):\n",
    "    \"\"\"This is Function for Encrypting a Message\"\"\"\n",
    "    return msg\n",
    "logging.info(\"this is program for Encrypting a Message \")\n",
    "try:\n",
    "    def EncryptingMsg(msg):\n",
    "        msg = input(\"i want to become a data scientist\")\n",
    "        encmsg =\"\"\n",
    "        for ch in msg:\n",
    "            asc = ord(ch) + 3\n",
    "            ench = chr(asc)\n",
    "            encmsg += ench\n",
    "        print(\"Encrypted message:\",encmsg)\n",
    "        logging.info(\"excecuted successfully\")\n",
    "except Exception as e:\n",
    "    logging.error(\"Error has happened\")\n",
    "    logging.exception(\"Exception occured\" + str(e))"
   ]
  },
  {
   "cell_type": "code",
   "execution_count": 2,
   "id": "c691482c",
   "metadata": {},
   "outputs": [],
   "source": [
    "import logging\n",
    "def EncryptingMsg():\n",
    "        \"\"\"This is Function for Encrypting a Message\"\"\"\n",
    "        return msg\n",
    "logging.info(\"this is program for Encrypting a Message \")\n",
    "try:\n",
    "    a = \"i want to become a data scientist\"\n",
    "    b = a.replace(\"a\",\"z\").replace(\"b\", \"y\"), replace(\"c\", \"x\").replace(\" \",\"$\")\n",
    "    print(b)\n",
    "    logging.info(\"excecuted successfully\")\n",
    "except Exception as e:\n",
    "    logging.error(\"Error has happened\")\n",
    "    logging.exception(\"Exception occured\" + str(e))\n",
    "    "
   ]
  },
  {
   "cell_type": "code",
   "execution_count": 3,
   "id": "9018aca4",
   "metadata": {},
   "outputs": [],
   "source": [
    "logging.shutdown()"
   ]
  },
  {
   "cell_type": "code",
   "execution_count": null,
   "id": "59116010",
   "metadata": {},
   "outputs": [],
   "source": [
    "EncryptingMsg()"
   ]
  },
  {
   "cell_type": "code",
   "execution_count": 2,
   "id": "5036a4c0",
   "metadata": {},
   "outputs": [],
   "source": [
    "# 14.Create a function which will take a list as an argument and return the product of all the numbers\n",
    "# after creating a flat list.\n",
    "# Use the below-given list as an argument for your function.\n",
    "# list1 = [1,2,3,4],[44,55,66,True],(34,56,78,89,34),{1,2,3,3,2,1},{1:34,\"key2\":[55,67,78,89],4:(45,22,61,34)},\n",
    "# [56,\"data science\",\"Machine Learning\"]\n",
    "# Note: you must extract numeric keys and values of the dictionary also."
   ]
  },
  {
   "cell_type": "code",
   "execution_count": 1,
   "id": "59ad1302",
   "metadata": {},
   "outputs": [],
   "source": [
    "import logging\n",
    "logging.basicConfig(filename = \"ProductNumbers.log\", level = logging.DEBUG, format = '%(asctime)s %(levelname)s %(message)s')"
   ]
  },
  {
   "cell_type": "code",
   "execution_count": 2,
   "id": "7596d8bf",
   "metadata": {},
   "outputs": [
    {
     "name": "stdout",
     "output_type": "stream",
     "text": [
      "([1, 2, 3, 4], [44, 55, 66, True], (34, 56, 78, 89, 34), {1, 2, 3}, {1: 34, 'key2': [55, 67, 78, 89], 4: (45, 22, 61, 34)}, [56, 'data science', 'Machine Learning'])\n",
      "product: \n"
     ]
    }
   ],
   "source": [
    "import logging\n",
    "def ProductOfNumbers(list):\n",
    "    \"\"\"this is Function for finding product of all numbers\"\"\"\n",
    "logging.info(\"this is program for finding product of all numbers\")\n",
    "try:\n",
    "    def ProductOfNumbers(list):\n",
    "        #Multiply elements one by one\n",
    "        product = 1\n",
    "        for i in list:\n",
    "            product = product * i\n",
    "        return product\n",
    "    list1 = [1,2,3,4],[44,55,66,True],(34,56,78,89,34),{1,2,3,3,2,1},{1:34,\"key2\":[55,67,78,89],4:(45,22,61,34)},[56,\"data science\",\"Machine Learning\"]\n",
    "    print(list1)\n",
    "    print(\"product: \")\n",
    "    print(ProductOfNumbers(list1))\n",
    "    logging.info(\"excecuted successfully\")\n",
    "except Exception as e:\n",
    "    logging.error(\"Error has happened\")\n",
    "    logging.exception(\"Exception occured\" + str(e))"
   ]
  },
  {
   "cell_type": "code",
   "execution_count": 3,
   "id": "80a2c7ab",
   "metadata": {},
   "outputs": [],
   "source": [
    "logging.shutdown()"
   ]
  },
  {
   "cell_type": "code",
   "execution_count": null,
   "id": "6e320d64",
   "metadata": {},
   "outputs": [],
   "source": [
    "ProductOfNumbers()"
   ]
  }
 ],
 "metadata": {
  "kernelspec": {
   "display_name": "Python 3 (ipykernel)",
   "language": "python",
   "name": "python3"
  },
  "language_info": {
   "codemirror_mode": {
    "name": "ipython",
    "version": 3
   },
   "file_extension": ".py",
   "mimetype": "text/x-python",
   "name": "python",
   "nbconvert_exporter": "python",
   "pygments_lexer": "ipython3",
   "version": "3.11.5"
  }
 },
 "nbformat": 4,
 "nbformat_minor": 5
}
